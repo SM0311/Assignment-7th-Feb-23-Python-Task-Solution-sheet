{
 "cells": [
  {
   "cell_type": "markdown",
   "id": "ad9d126a-b5ec-427b-92b1-e607904a6a2e",
   "metadata": {},
   "source": [
    "Q1. You are writing code for a company. The requirement of the company is that you create a python function that will check whether the password entered by the user is correct or not. The function should take the password as input and return the string “Valid Password” if the entered password follows the below-given password guidelines else it should return “Invalid Password”.\n",
    "\n",
    "\n",
    "\n",
    "Note:\n",
    "1. The Password should contain at least two uppercase letters and at least two lowercase letters.\n",
    "\n",
    "2. The Password should contain at least a number and three special characters.\n",
    "\n",
    "3. The length of the password should be 10 characters long."
   ]
  },
  {
   "cell_type": "code",
   "execution_count": 2,
   "id": "6f3d9d63-ab5a-478e-bc8d-3f2427a5c2e5",
   "metadata": {},
   "outputs": [],
   "source": [
    "##Answer - \n",
    "\n",
    "\n",
    "import re\n",
    "\n",
    "def check_password(password):\n",
    "    if len(password) != 10:\n",
    "        return \"Invalid Password\"\n",
    "    \n",
    "    if len(re.findall(r'[A-Z]', password)) <2:\n",
    "        return \"Invalid Password\"\n",
    "    \n",
    "    if len(re.findall(r'[a-z]', password)) <2:\n",
    "           return \"Invalid Password\"\n",
    "           \n",
    "    if len(re.findall(r'[0-9]', password)) <1:\n",
    "           return \"Invalid Password\"\n",
    "           \n",
    "    if len(re.findall(r'[!@#%^&*()<>?:{}|<>]', passowrd)) <3:\n",
    "           return \"Invalid Password\"\n",
    "           \n",
    "           \n",
    "    return \"Valid Password\""
   ]
  },
  {
   "cell_type": "markdown",
   "id": "eebed91c-ad2c-41ff-911b-77476f6b40a1",
   "metadata": {},
   "source": [
    "Q2. Solve the below-given questions using at least one of the following:\n",
    "\n",
    "1. Lambda function\n",
    "2. Filter function\n",
    "3. Zap function\n",
    "4. List Comprehension\n",
    "\n",
    "A. Check if the string starts with a particular letter.\n",
    "\n",
    "B. Check if the string is numeric.\n",
    "\n",
    "C. Sort a list of tuples having fruit names and their quantity. [(\"mango\",99),(\"orange\",80), (\"grapes\", 1000)]\n",
    "\n",
    "D. Find the squares of numbers from 1 to 10.\n",
    "\n",
    "E. Find the cube root of numbers from 1 to 10.\n",
    "\n",
    "F. Check if a given number is even.\n",
    "\n",
    "G. Filter odd numbers from the given list.      [1,2,3,4,5,6,7,8,9,10]\n",
    "\n",
    "H. Sort a list of integers into positive and negative integers lists. [1,2,3,4,5,6,-1,-2,-3,-4,-5,0]"
   ]
  },
  {
   "cell_type": "code",
   "execution_count": 3,
   "id": "1472c105-28c3-4f79-996b-844761899f41",
   "metadata": {},
   "outputs": [],
   "source": [
    "## Check if the string starts with a particular letter.\n",
    "\n",
    "##Using List Comprehension :\n",
    "\n",
    "string = [\"love\", \"pwskills\", \"data science\", \"mentor\"]\n",
    "letter = \"p\"\n",
    "result = [s for s in string if s.startswith(letter)]"
   ]
  },
  {
   "cell_type": "code",
   "execution_count": 4,
   "id": "30bf74ab-29e1-4586-b361-8df17bee1700",
   "metadata": {},
   "outputs": [
    {
     "data": {
      "text/plain": [
       "['pwskills']"
      ]
     },
     "execution_count": 4,
     "metadata": {},
     "output_type": "execute_result"
    }
   ],
   "source": [
    "result"
   ]
  },
  {
   "cell_type": "code",
   "execution_count": 5,
   "id": "9cdbd08c-75f5-40b1-b946-71dfb4616205",
   "metadata": {},
   "outputs": [],
   "source": [
    "## Check if the string starts with a particular letter.\n",
    "\n",
    "##Using List Comprehension :\n",
    "\n",
    "string = [\"love\", \"pwskills\", \"data science\", \"mentor\"]\n",
    "letter = \"p\"\n",
    "result = [s for s in string if s.startswith(letter)]"
   ]
  },
  {
   "cell_type": "code",
   "execution_count": 6,
   "id": "66164db8-be78-4185-ba25-717cadd00269",
   "metadata": {},
   "outputs": [
    {
     "data": {
      "text/plain": [
       "['pwskills']"
      ]
     },
     "execution_count": 6,
     "metadata": {},
     "output_type": "execute_result"
    }
   ],
   "source": [
    "result"
   ]
  },
  {
   "cell_type": "code",
   "execution_count": 7,
   "id": "ec961e9f-d6e1-410b-a258-a342446dcd4e",
   "metadata": {},
   "outputs": [],
   "source": [
    "## Check if string is numeric \n",
    "\n",
    "## using lambda function - \n",
    "\n",
    "string = [\"love\", \"235\", \"data science\", \"999\"]\n",
    "result = list(filter(lambda s: s.isnumeric(), string))"
   ]
  },
  {
   "cell_type": "code",
   "execution_count": 8,
   "id": "33346fe8-5a65-4dc1-9a29-7618a2d9e76e",
   "metadata": {},
   "outputs": [
    {
     "data": {
      "text/plain": [
       "['235', '999']"
      ]
     },
     "execution_count": 8,
     "metadata": {},
     "output_type": "execute_result"
    }
   ],
   "source": [
    "result"
   ]
  },
  {
   "cell_type": "code",
   "execution_count": 9,
   "id": "4e555962-ceac-48bc-8d8a-3e54f7878a41",
   "metadata": {},
   "outputs": [],
   "source": [
    "## Sort a list of tuples having fruit names and their quantity.\n",
    "##using lambda function\n",
    "\n",
    "fruits = [(\"mango\", 99), (\"orange\", 80), (\"grapes\", 1000)]\n",
    "result = sorted(fruits, key = lambda x:x[1])\n"
   ]
  },
  {
   "cell_type": "code",
   "execution_count": 10,
   "id": "15076650-282b-4f48-87e8-2dda0a145173",
   "metadata": {},
   "outputs": [
    {
     "data": {
      "text/plain": [
       "[('orange', 80), ('mango', 99), ('grapes', 1000)]"
      ]
     },
     "execution_count": 10,
     "metadata": {},
     "output_type": "execute_result"
    }
   ],
   "source": [
    "result"
   ]
  },
  {
   "cell_type": "code",
   "execution_count": 11,
   "id": "02f0a6a7-cbcf-4313-93e9-69ff1476c07a",
   "metadata": {},
   "outputs": [],
   "source": [
    "## Find the squares of numbers from 1 to 10\n",
    "\n",
    "## using list comprehension\n",
    "\n",
    "l = [i**2 for i in range(1,11)]"
   ]
  },
  {
   "cell_type": "code",
   "execution_count": 12,
   "id": "b26a3f35-acb4-4109-ab2b-6eb9f7be338c",
   "metadata": {},
   "outputs": [
    {
     "data": {
      "text/plain": [
       "[1, 4, 9, 16, 25, 36, 49, 64, 81, 100]"
      ]
     },
     "execution_count": 12,
     "metadata": {},
     "output_type": "execute_result"
    }
   ],
   "source": [
    "l"
   ]
  },
  {
   "cell_type": "code",
   "execution_count": 13,
   "id": "651d81ab-d0d6-4dfa-8bed-63bcfe1cc017",
   "metadata": {},
   "outputs": [
    {
     "name": "stdout",
     "output_type": "stream",
     "text": [
      "[1.0, 1.2599210498948732, 1.4422495703074083, 1.5874010519681994, 1.7099759466766968, 1.8171205928321397, 1.912931182772389, 2.0, 2.080083823051904, 2.154434690031884]\n"
     ]
    }
   ],
   "source": [
    "##Find the cube root of numbers from 1 to 10.\n",
    "##Using lambda and map \n",
    "\n",
    "import math\n",
    "result = list(map(lambda x: math.pow(x, 1/3), range(1, 11)))\n",
    "print(result)"
   ]
  },
  {
   "cell_type": "code",
   "execution_count": 14,
   "id": "f8b724d6-bcb8-48cd-9ee7-44ee7d473ff2",
   "metadata": {},
   "outputs": [],
   "source": [
    "##Check if a given number is even\n",
    "\n",
    "##Using lambda functiom\n",
    "\n",
    "even = lambda x : x%2 == 0\n",
    "result = even(4)"
   ]
  },
  {
   "cell_type": "code",
   "execution_count": 15,
   "id": "3aceb2af-f79d-4c9d-bfbb-5022b11b1d37",
   "metadata": {},
   "outputs": [
    {
     "data": {
      "text/plain": [
       "True"
      ]
     },
     "execution_count": 15,
     "metadata": {},
     "output_type": "execute_result"
    }
   ],
   "source": [
    "result "
   ]
  },
  {
   "cell_type": "code",
   "execution_count": 16,
   "id": "92c88079-0407-48ba-a135-0c66c0269668",
   "metadata": {},
   "outputs": [],
   "source": [
    "l2 =  [1,2,3,4,5,6,7,8,9,10]"
   ]
  },
  {
   "cell_type": "code",
   "execution_count": 17,
   "id": "584b734e-c9cf-48e6-89a4-225bd0c7ae4e",
   "metadata": {},
   "outputs": [
    {
     "data": {
      "text/plain": [
       "[1, 3, 5, 7, 9]"
      ]
     },
     "execution_count": 17,
     "metadata": {},
     "output_type": "execute_result"
    }
   ],
   "source": [
    "list(filter(lambda x :  x%2 != 0, l2))"
   ]
  },
  {
   "cell_type": "code",
   "execution_count": 18,
   "id": "9b341c44-3490-4d75-99aa-6b0d79184aad",
   "metadata": {},
   "outputs": [],
   "source": [
    "##Sort a list of integers into positive and negative integers lists. \n",
    "\n",
    "l3 = [1,2,3,4,5,6,-1,-2,-3,-4,-5,0]"
   ]
  },
  {
   "cell_type": "code",
   "execution_count": 21,
   "id": "ff5d56d0-9e26-4b09-b6a2-65866a629fcf",
   "metadata": {},
   "outputs": [
    {
     "data": {
      "text/plain": [
       "[1, 2, 3, 4, 5, 6]"
      ]
     },
     "execution_count": 21,
     "metadata": {},
     "output_type": "execute_result"
    }
   ],
   "source": [
    "list(filter(lambda x :  x > 0, l3))"
   ]
  },
  {
   "cell_type": "code",
   "execution_count": 22,
   "id": "edecae9d-c080-4210-b6bf-b1b6e7234d47",
   "metadata": {},
   "outputs": [
    {
     "data": {
      "text/plain": [
       "[-1, -2, -3, -4, -5]"
      ]
     },
     "execution_count": 22,
     "metadata": {},
     "output_type": "execute_result"
    }
   ],
   "source": [
    "list(filter(lambda x :  x < 0, l3))"
   ]
  },
  {
   "cell_type": "code",
   "execution_count": null,
   "id": "e40f7c23-dfe2-4f6a-ab21-277608f9184e",
   "metadata": {},
   "outputs": [],
   "source": []
  }
 ],
 "metadata": {
  "kernelspec": {
   "display_name": "Python 3 (ipykernel)",
   "language": "python",
   "name": "python3"
  },
  "language_info": {
   "codemirror_mode": {
    "name": "ipython",
    "version": 3
   },
   "file_extension": ".py",
   "mimetype": "text/x-python",
   "name": "python",
   "nbconvert_exporter": "python",
   "pygments_lexer": "ipython3",
   "version": "3.10.8"
  }
 },
 "nbformat": 4,
 "nbformat_minor": 5
}
